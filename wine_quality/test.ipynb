import pandas as pandas

df = pd.read_csv('wine.csv')

for column in df.columns:
	print(column)


