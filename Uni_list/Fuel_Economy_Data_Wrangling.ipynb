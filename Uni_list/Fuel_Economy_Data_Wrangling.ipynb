{
 "cells": [
  {
   "cell_type": "code",
   "execution_count": 32,
   "metadata": {},
   "outputs": [],
   "source": [
    "import pandas as pd\n",
    "import numpy as np\n",
    "import matplotlib.pyplot as plt\n",
    "import seaborn as sns"
   ]
  },
  {
   "cell_type": "code",
   "execution_count": 33,
   "metadata": {},
   "outputs": [],
   "source": [
    "df_20 = pd.read_excel('SmartWay Vehicle List for MY 2020.xlsx')\n",
    "df_10 = pd.read_excel('SmartWay Vehicle List MY 2010.xls')"
   ]
  },
  {
   "cell_type": "code",
   "execution_count": 34,
   "metadata": {},
   "outputs": [
    {
     "data": {
      "text/html": [
       "<div>\n",
       "<style scoped>\n",
       "    .dataframe tbody tr th:only-of-type {\n",
       "        vertical-align: middle;\n",
       "    }\n",
       "\n",
       "    .dataframe tbody tr th {\n",
       "        vertical-align: top;\n",
       "    }\n",
       "\n",
       "    .dataframe thead th {\n",
       "        text-align: right;\n",
       "    }\n",
       "</style>\n",
       "<table border=\"1\" class=\"dataframe\">\n",
       "  <thead>\n",
       "    <tr style=\"text-align: right;\">\n",
       "      <th></th>\n",
       "      <th>Model</th>\n",
       "      <th>Displ</th>\n",
       "      <th>Cyl</th>\n",
       "      <th>Trans</th>\n",
       "      <th>Drive</th>\n",
       "      <th>Fuel</th>\n",
       "      <th>Cert Region</th>\n",
       "      <th>Stnd</th>\n",
       "      <th>Stnd Description</th>\n",
       "      <th>Underhood ID</th>\n",
       "      <th>Veh Class</th>\n",
       "      <th>Air Pollution Score</th>\n",
       "      <th>City MPG</th>\n",
       "      <th>Hwy MPG</th>\n",
       "      <th>Cmb MPG</th>\n",
       "      <th>Greenhouse Gas Score</th>\n",
       "      <th>SmartWay</th>\n",
       "    </tr>\n",
       "  </thead>\n",
       "  <tbody>\n",
       "    <tr>\n",
       "      <th>0</th>\n",
       "      <td>AUDI A3</td>\n",
       "      <td>2.0</td>\n",
       "      <td>4.0</td>\n",
       "      <td>AMS-7</td>\n",
       "      <td>2WD</td>\n",
       "      <td>Gasoline</td>\n",
       "      <td>CA</td>\n",
       "      <td>L3SULEV30</td>\n",
       "      <td>California LEV-III SULEV30</td>\n",
       "      <td>LVGAV02.0A3A</td>\n",
       "      <td>small car</td>\n",
       "      <td>7</td>\n",
       "      <td>27</td>\n",
       "      <td>36</td>\n",
       "      <td>30</td>\n",
       "      <td>7</td>\n",
       "      <td>Yes</td>\n",
       "    </tr>\n",
       "    <tr>\n",
       "      <th>1</th>\n",
       "      <td>AUDI A3</td>\n",
       "      <td>2.0</td>\n",
       "      <td>4.0</td>\n",
       "      <td>AMS-7</td>\n",
       "      <td>2WD</td>\n",
       "      <td>Gasoline</td>\n",
       "      <td>FA</td>\n",
       "      <td>T3B30</td>\n",
       "      <td>Federal Tier 3 Bin 30</td>\n",
       "      <td>LVGAV02.0A3A</td>\n",
       "      <td>small car</td>\n",
       "      <td>7</td>\n",
       "      <td>27</td>\n",
       "      <td>36</td>\n",
       "      <td>30</td>\n",
       "      <td>7</td>\n",
       "      <td>Yes</td>\n",
       "    </tr>\n",
       "    <tr>\n",
       "      <th>2</th>\n",
       "      <td>AUDI A4</td>\n",
       "      <td>2.0</td>\n",
       "      <td>4.0</td>\n",
       "      <td>AMS-7</td>\n",
       "      <td>2WD</td>\n",
       "      <td>Gasoline</td>\n",
       "      <td>CA</td>\n",
       "      <td>L3ULEV70</td>\n",
       "      <td>California LEV-III ULEV70</td>\n",
       "      <td>LVGAV02.0A7B</td>\n",
       "      <td>small car</td>\n",
       "      <td>5</td>\n",
       "      <td>27</td>\n",
       "      <td>35</td>\n",
       "      <td>30</td>\n",
       "      <td>7</td>\n",
       "      <td>Yes</td>\n",
       "    </tr>\n",
       "    <tr>\n",
       "      <th>3</th>\n",
       "      <td>AUDI A4</td>\n",
       "      <td>2.0</td>\n",
       "      <td>4.0</td>\n",
       "      <td>AMS-7</td>\n",
       "      <td>2WD</td>\n",
       "      <td>Gasoline</td>\n",
       "      <td>FA</td>\n",
       "      <td>T3B70</td>\n",
       "      <td>Federal Tier 3 Bin 70</td>\n",
       "      <td>LVGAV02.0A7B</td>\n",
       "      <td>small car</td>\n",
       "      <td>5</td>\n",
       "      <td>27</td>\n",
       "      <td>35</td>\n",
       "      <td>30</td>\n",
       "      <td>7</td>\n",
       "      <td>Yes</td>\n",
       "    </tr>\n",
       "    <tr>\n",
       "      <th>4</th>\n",
       "      <td>AUDI Q5</td>\n",
       "      <td>2.0</td>\n",
       "      <td>4.0</td>\n",
       "      <td>AMS-7</td>\n",
       "      <td>4WD</td>\n",
       "      <td>Gasoline/Electricity</td>\n",
       "      <td>CA</td>\n",
       "      <td>L3SULEV30</td>\n",
       "      <td>California LEV-III SULEV30</td>\n",
       "      <td>LVGAJ02.0A3P</td>\n",
       "      <td>small SUV</td>\n",
       "      <td>7</td>\n",
       "      <td>25/64</td>\n",
       "      <td>29/66</td>\n",
       "      <td>27/65</td>\n",
       "      <td>10</td>\n",
       "      <td>Elite</td>\n",
       "    </tr>\n",
       "  </tbody>\n",
       "</table>\n",
       "</div>"
      ],
      "text/plain": [
       "     Model  Displ  Cyl  Trans Drive                  Fuel Cert Region  \\\n",
       "0  AUDI A3    2.0  4.0  AMS-7   2WD              Gasoline          CA   \n",
       "1  AUDI A3    2.0  4.0  AMS-7   2WD              Gasoline          FA   \n",
       "2  AUDI A4    2.0  4.0  AMS-7   2WD              Gasoline          CA   \n",
       "3  AUDI A4    2.0  4.0  AMS-7   2WD              Gasoline          FA   \n",
       "4  AUDI Q5    2.0  4.0  AMS-7   4WD  Gasoline/Electricity          CA   \n",
       "\n",
       "        Stnd            Stnd Description  Underhood ID  Veh Class  \\\n",
       "0  L3SULEV30  California LEV-III SULEV30  LVGAV02.0A3A  small car   \n",
       "1      T3B30       Federal Tier 3 Bin 30  LVGAV02.0A3A  small car   \n",
       "2   L3ULEV70   California LEV-III ULEV70  LVGAV02.0A7B  small car   \n",
       "3      T3B70       Federal Tier 3 Bin 70  LVGAV02.0A7B  small car   \n",
       "4  L3SULEV30  California LEV-III SULEV30  LVGAJ02.0A3P  small SUV   \n",
       "\n",
       "   Air Pollution Score City MPG Hwy MPG Cmb MPG  Greenhouse Gas Score SmartWay  \n",
       "0                    7       27      36      30                     7      Yes  \n",
       "1                    7       27      36      30                     7      Yes  \n",
       "2                    5       27      35      30                     7      Yes  \n",
       "3                    5       27      35      30                     7      Yes  \n",
       "4                    7    25/64   29/66   27/65                    10    Elite  "
      ]
     },
     "execution_count": 34,
     "metadata": {},
     "output_type": "execute_result"
    }
   ],
   "source": [
    "df_20.head()"
   ]
  },
  {
   "cell_type": "code",
   "execution_count": 35,
   "metadata": {},
   "outputs": [
    {
     "data": {
      "text/plain": [
       "Model                    0\n",
       "Displ                   81\n",
       "Cyl                     81\n",
       "Trans                    0\n",
       "Drive                    0\n",
       "Fuel                     0\n",
       "Cert Region              0\n",
       "Stnd                     0\n",
       "Stnd Description         0\n",
       "Underhood ID             0\n",
       "Veh Class                0\n",
       "Air Pollution Score      0\n",
       "City MPG                 0\n",
       "Hwy MPG                  0\n",
       "Cmb MPG                  0\n",
       "Greenhouse Gas Score     0\n",
       "SmartWay                 0\n",
       "dtype: int64"
      ]
     },
     "execution_count": 35,
     "metadata": {},
     "output_type": "execute_result"
    }
   ],
   "source": [
    "df_20.isna().sum()"
   ]
  },
  {
   "cell_type": "code",
   "execution_count": 36,
   "metadata": {},
   "outputs": [],
   "source": [
    "## Column name change\n",
    "df_20.columns = df_20.columns.str.replace(' ', '_')\n",
    "df_10.columns = df_10.columns.str.replace(' ', '_')"
   ]
  },
  {
   "cell_type": "code",
   "execution_count": 37,
   "metadata": {},
   "outputs": [
    {
     "data": {
      "text/html": [
       "<div>\n",
       "<style scoped>\n",
       "    .dataframe tbody tr th:only-of-type {\n",
       "        vertical-align: middle;\n",
       "    }\n",
       "\n",
       "    .dataframe tbody tr th {\n",
       "        vertical-align: top;\n",
       "    }\n",
       "\n",
       "    .dataframe thead th {\n",
       "        text-align: right;\n",
       "    }\n",
       "</style>\n",
       "<table border=\"1\" class=\"dataframe\">\n",
       "  <thead>\n",
       "    <tr style=\"text-align: right;\">\n",
       "      <th></th>\n",
       "      <th>Model</th>\n",
       "      <th>Displ</th>\n",
       "      <th>Cyl</th>\n",
       "      <th>Trans</th>\n",
       "      <th>Drive</th>\n",
       "      <th>Fuel</th>\n",
       "      <th>Sales_Area</th>\n",
       "      <th>Stnd_Description</th>\n",
       "      <th>Underhood_ID</th>\n",
       "      <th>Veh_Class</th>\n",
       "      <th>Air_Pollution_Score</th>\n",
       "      <th>City_MPG</th>\n",
       "      <th>Hwy_MPG</th>\n",
       "      <th>Cmb_MPG</th>\n",
       "      <th>Greenhouse_Gas_Score</th>\n",
       "      <th>SmartWay</th>\n",
       "    </tr>\n",
       "  </thead>\n",
       "  <tbody>\n",
       "    <tr>\n",
       "      <th>0</th>\n",
       "      <td>ACURA TSX</td>\n",
       "      <td>2.4</td>\n",
       "      <td>4.0</td>\n",
       "      <td>Man-6</td>\n",
       "      <td>2WD</td>\n",
       "      <td>Gasoline</td>\n",
       "      <td>CA</td>\n",
       "      <td>California LEV-II ULEV</td>\n",
       "      <td>AHNXV02.4SB9</td>\n",
       "      <td>small car</td>\n",
       "      <td>7</td>\n",
       "      <td>20</td>\n",
       "      <td>28</td>\n",
       "      <td>23</td>\n",
       "      <td>6</td>\n",
       "      <td>yes</td>\n",
       "    </tr>\n",
       "  </tbody>\n",
       "</table>\n",
       "</div>"
      ],
      "text/plain": [
       "       Model  Displ  Cyl  Trans Drive      Fuel Sales_Area  \\\n",
       "0  ACURA TSX    2.4  4.0  Man-6   2WD  Gasoline         CA   \n",
       "\n",
       "         Stnd_Description  Underhood_ID  Veh_Class Air_Pollution_Score  \\\n",
       "0  California LEV-II ULEV  AHNXV02.4SB9  small car                   7   \n",
       "\n",
       "  City_MPG Hwy_MPG Cmb_MPG Greenhouse_Gas_Score SmartWay  \n",
       "0       20      28      23                    6      yes  "
      ]
     },
     "execution_count": 37,
     "metadata": {},
     "output_type": "execute_result"
    }
   ],
   "source": [
    "df_10.head(1)"
   ]
  },
  {
   "cell_type": "code",
   "execution_count": 38,
   "metadata": {},
   "outputs": [
    {
     "data": {
      "text/html": [
       "<div>\n",
       "<style scoped>\n",
       "    .dataframe tbody tr th:only-of-type {\n",
       "        vertical-align: middle;\n",
       "    }\n",
       "\n",
       "    .dataframe tbody tr th {\n",
       "        vertical-align: top;\n",
       "    }\n",
       "\n",
       "    .dataframe thead th {\n",
       "        text-align: right;\n",
       "    }\n",
       "</style>\n",
       "<table border=\"1\" class=\"dataframe\">\n",
       "  <thead>\n",
       "    <tr style=\"text-align: right;\">\n",
       "      <th></th>\n",
       "      <th>Model</th>\n",
       "      <th>Displ</th>\n",
       "      <th>Cyl</th>\n",
       "      <th>Trans</th>\n",
       "      <th>Drive</th>\n",
       "      <th>Fuel</th>\n",
       "      <th>Cert_Region</th>\n",
       "      <th>Stnd</th>\n",
       "      <th>Stnd_Description</th>\n",
       "      <th>Underhood_ID</th>\n",
       "      <th>Veh_Class</th>\n",
       "      <th>Air_Pollution_Score</th>\n",
       "      <th>City_MPG</th>\n",
       "      <th>Hwy_MPG</th>\n",
       "      <th>Cmb_MPG</th>\n",
       "      <th>Greenhouse_Gas_Score</th>\n",
       "      <th>SmartWay</th>\n",
       "    </tr>\n",
       "  </thead>\n",
       "  <tbody>\n",
       "    <tr>\n",
       "      <th>0</th>\n",
       "      <td>AUDI A3</td>\n",
       "      <td>2.0</td>\n",
       "      <td>4.0</td>\n",
       "      <td>AMS-7</td>\n",
       "      <td>2WD</td>\n",
       "      <td>Gasoline</td>\n",
       "      <td>CA</td>\n",
       "      <td>L3SULEV30</td>\n",
       "      <td>California LEV-III SULEV30</td>\n",
       "      <td>LVGAV02.0A3A</td>\n",
       "      <td>small car</td>\n",
       "      <td>7</td>\n",
       "      <td>27</td>\n",
       "      <td>36</td>\n",
       "      <td>30</td>\n",
       "      <td>7</td>\n",
       "      <td>Yes</td>\n",
       "    </tr>\n",
       "  </tbody>\n",
       "</table>\n",
       "</div>"
      ],
      "text/plain": [
       "     Model  Displ  Cyl  Trans Drive      Fuel Cert_Region       Stnd  \\\n",
       "0  AUDI A3    2.0  4.0  AMS-7   2WD  Gasoline          CA  L3SULEV30   \n",
       "\n",
       "             Stnd_Description  Underhood_ID  Veh_Class  Air_Pollution_Score  \\\n",
       "0  California LEV-III SULEV30  LVGAV02.0A3A  small car                    7   \n",
       "\n",
       "  City_MPG Hwy_MPG Cmb_MPG  Greenhouse_Gas_Score SmartWay  \n",
       "0       27      36      30                     7      Yes  "
      ]
     },
     "execution_count": 38,
     "metadata": {},
     "output_type": "execute_result"
    }
   ],
   "source": [
    "df_20.head(1)"
   ]
  },
  {
   "cell_type": "code",
   "execution_count": 39,
   "metadata": {},
   "outputs": [
    {
     "data": {
      "text/plain": [
       "(405, 17)"
      ]
     },
     "execution_count": 39,
     "metadata": {},
     "output_type": "execute_result"
    }
   ],
   "source": [
    "df_20.shape"
   ]
  },
  {
   "cell_type": "code",
   "execution_count": 40,
   "metadata": {},
   "outputs": [
    {
     "data": {
      "text/plain": [
       "(716, 16)"
      ]
     },
     "execution_count": 40,
     "metadata": {},
     "output_type": "execute_result"
    }
   ],
   "source": [
    "df_10.shape"
   ]
  },
  {
   "cell_type": "code",
   "execution_count": 41,
   "metadata": {},
   "outputs": [],
   "source": [
    "##以下テスト"
   ]
  },
  {
   "cell_type": "code",
   "execution_count": 42,
   "metadata": {},
   "outputs": [
    {
     "data": {
      "text/plain": [
       "str"
      ]
     },
     "execution_count": 42,
     "metadata": {},
     "output_type": "execute_result"
    }
   ],
   "source": [
    "type(df_20['Model'][0])"
   ]
  },
  {
   "cell_type": "code",
   "execution_count": 43,
   "metadata": {},
   "outputs": [
    {
     "data": {
      "text/plain": [
       "array(['AUDI A3', 'AUDI A4', 'AUDI Q5', 'AUDI e-tron Sportback',\n",
       "       'BMW 330i', 'BMW 530e', 'BMW X3 xDrive30e', 'BMW i3', 'BMW i3s',\n",
       "       'BUICK Encore GX', 'BYD e6', 'CHEVROLET Bolt EV',\n",
       "       'CHEVROLET Malibu', 'CHEVROLET Spark', 'CHEVROLET Spark Activ',\n",
       "       'CHRYSLER Pacifica Hybrid', 'FORD Escape', 'FORD Escape HEV',\n",
       "       'FORD Escape PHEV', 'FORD Fusion Energi Plug-in Hybrid',\n",
       "       'FORD Fusion Hybrid', 'FORD Fusion Hybrid Taxi',\n",
       "       'FORD Fusion Special Service PHEV', 'HONDA Accord', 'HONDA CR-V',\n",
       "       'HONDA Civic 2Dr', 'HONDA Civic 4Dr', 'HONDA Civic 5Dr',\n",
       "       'HONDA Clarity', 'HONDA Fit', 'HONDA HR-V', 'HONDA Insight',\n",
       "       'HONDA Insight Touring', 'HYUNDAI Elantra', 'HYUNDAI Elantra SE',\n",
       "       'HYUNDAI Ioniq', 'HYUNDAI Ioniq Blue', 'HYUNDAI Ioniq Electric',\n",
       "       'HYUNDAI Ioniq Plug-in Hybrid', 'HYUNDAI Kona',\n",
       "       'HYUNDAI Kona Electric', 'HYUNDAI NEXO', 'HYUNDAI NEXO Blue',\n",
       "       'HYUNDAI Sonata', 'HYUNDAI Sonata Hybrid',\n",
       "       'HYUNDAI Sonata Hybrid Blue', 'HYUNDAI Veloster', 'HYUNDAI Venue',\n",
       "       'JAGUAR I-PACE', 'KARMA Revero GT (21-inch wheels)', 'KIA Forte',\n",
       "       'KIA Forte FE', 'KIA Niro', 'KIA Niro Electric', 'KIA Niro FE',\n",
       "       'KIA Niro Plug-in Hybrid', 'KIA Niro Touring', 'KIA Optima',\n",
       "       'KIA Optima Hybrid', 'KIA Optima plug-in hybrid', 'KIA Soul',\n",
       "       'KIA Soul Eco dynamics', 'KIA Soul Electric',\n",
       "       'LAND ROVER Range Rover PHEV', 'LAND ROVER Range Rover Sport PHEV',\n",
       "       'LEXUS ES 300h', 'LEXUS LC 500h', 'LEXUS NX 300h', 'LEXUS RX 450h',\n",
       "       'LEXUS UX 200', 'LEXUS UX 250h', 'LINCOLN Aviator PHEV',\n",
       "       'LINCOLN MKZ Hybrid', 'MAZDA 3', 'MAZDA CX-3',\n",
       "       'MERCEDES-BENZ GLC 350e 4Matic', 'MINI Cooper Convertible',\n",
       "       'MINI Cooper Hardtop', 'MINI Cooper S Hardtop',\n",
       "       'MINI Cooper SE Hardtop', 'MITSUBISHI Mirage',\n",
       "       'MITSUBISHI Mirage G4', 'MITSUBISHI Outlander PHEV',\n",
       "       'NISSAN Altima', 'NISSAN Altima SR/Platinum', 'NISSAN Kicks',\n",
       "       'NISSAN Leaf', 'NISSAN Leaf SV/SL', 'NISSAN Sentra',\n",
       "       'NISSAN Sentra SR', 'NISSAN Versa', 'PAGANI Polestar 1',\n",
       "       'PORSCHE Panamera 4 e-Hybrid',\n",
       "       'PORSCHE Panamera 4 e-Hybrid Executive',\n",
       "       'PORSCHE Panamera 4 e-Hybrid ST',\n",
       "       'PORSCHE Taycan 4S Perf Battery Plus', 'PORSCHE Taycan Turbo',\n",
       "       'PORSCHE Taycan Turbo S', 'SUBARU Crosstrek',\n",
       "       'SUBARU Crosstrek Hybrid', 'SUBARU Impreza',\n",
       "       'SUBARU Impreza 4-Door Sport', 'SUBARU Impreza 5-Door Sport',\n",
       "       'SUBARU Legacy', 'TESLA Model 3 Long Range',\n",
       "       'TESLA Model 3 Long Range Perform 18\"',\n",
       "       'TESLA Model 3 Long Range Perform 19\"',\n",
       "       'TESLA Model 3 Long Range Perform 20\"', 'TESLA Model 3 Mid Range',\n",
       "       'TESLA Model 3 Standard Range',\n",
       "       'TESLA Model 3 Standard Range Plus', 'TESLA Model 4 Long Range',\n",
       "       'TESLA Model S Long Range', 'TESLA Model S Long Range Plus',\n",
       "       'TESLA Model S Performance (19\")',\n",
       "       'TESLA Model S Performance (21\")', 'TESLA Model S Standard Range',\n",
       "       'TESLA Model X Long Range', 'TESLA Model X Long Range Plus',\n",
       "       'TESLA Model X Performance (20\")',\n",
       "       'TESLA Model X Performance (22\")', 'TESLA Model X Standard Range',\n",
       "       'TESLA Model Y Long Range', 'TESLA Model Y Performance',\n",
       "       'TOYOTA Avalon Hybrid', 'TOYOTA Avalon Hybrid XLE', 'TOYOTA Camry',\n",
       "       'TOYOTA Camry Hybrid LE', 'TOYOTA Camry Hybrid XLE/SE',\n",
       "       'TOYOTA Camry LE/SE', 'TOYOTA Camry XLE/XSE', 'TOYOTA Corolla',\n",
       "       'TOYOTA Corolla Hatchback', 'TOYOTA Corolla Hatchback XSE',\n",
       "       'TOYOTA Corolla Hybrid', 'TOYOTA Corolla XLE',\n",
       "       'TOYOTA Corolla XSE', 'TOYOTA Highlander Hybrid',\n",
       "       'TOYOTA Highlander Hybrid LTD/PLAT', 'TOYOTA Mirai',\n",
       "       'TOYOTA Prius', 'TOYOTA Prius Eco', 'TOYOTA Prius Prime',\n",
       "       'TOYOTA RAV4', 'TOYOTA RAV4 Hybrid', 'TOYOTA RAV4 LE',\n",
       "       'VOLKSWAGEN Golf', 'VOLKSWAGEN Jetta', 'VOLVO S60', 'VOLVO S90',\n",
       "       'VOLVO V60', 'VOLVO XC60', 'VOLVO XC90'], dtype=object)"
      ]
     },
     "execution_count": 43,
     "metadata": {},
     "output_type": "execute_result"
    }
   ],
   "source": [
    "df_20['Model'].unique()"
   ]
  },
  {
   "cell_type": "code",
   "execution_count": null,
   "metadata": {},
   "outputs": [],
   "source": []
  }
 ],
 "metadata": {
  "kernelspec": {
   "display_name": "Python 3",
   "language": "python",
   "name": "python3"
  },
  "language_info": {
   "codemirror_mode": {
    "name": "ipython",
    "version": 3
   },
   "file_extension": ".py",
   "mimetype": "text/x-python",
   "name": "python",
   "nbconvert_exporter": "python",
   "pygments_lexer": "ipython3",
   "version": "3.7.7"
  }
 },
 "nbformat": 4,
 "nbformat_minor": 4
}
